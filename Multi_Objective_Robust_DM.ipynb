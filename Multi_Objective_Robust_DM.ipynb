{
  "cells": [
    {
      "cell_type": "markdown",
      "metadata": {
        "id": "view-in-github",
        "colab_type": "text"
      },
      "source": [
        "<a href=\"https://colab.research.google.com/github/SBabs08/MORDM_training/blob/main/Multi_Objective_Robust_DM.ipynb\" target=\"_parent\"><img src=\"https://colab.research.google.com/assets/colab-badge.svg\" alt=\"Open In Colab\"/></a>"
      ]
    },
    {
      "cell_type": "markdown",
      "metadata": {
        "id": "zawJ-u7fDtxW"
      },
      "source": [
        "#Welcome and Introduction"
      ]
    },
    {
      "cell_type": "markdown",
      "metadata": {
        "id": "t6mBoE4EsyYj"
      },
      "source": [
        "*Note from workbook creator*\n",
        ">This workbook contains a compilation of the steps used to set up and run basic examples of Rhodium (as part of Project Platypus), MOEA_Borg (David Hadka) and the DPS_Lake_Problem (Julianne Quinn).\n",
        "\n",
        "> This workbook is meant to be used as a guide to set up and run these examples locally or on a HPC system as a first step to getting started understanding and adapting to the MORDM framework. This work book is a work in progeres and is ever evolving and growing with updtase as I learn.\n",
        "\n",
        ">*I do not own nor did I created any of these models I am simply learning and compling for a more streamlined workflow.* **All credit gotes to the original creators of these Frameworks.** \n",
        "\n",
        "\n",
        "\n"
      ]
    },
    {
      "cell_type": "markdown",
      "metadata": {
        "id": "S3xW9OUWD0tr"
      },
      "source": [
        "**Contents**\n",
        "\n",
        "\n",
        "1.   Setup Environment - this section sets up the necessary requirements and environments needed to run these models in this workbook - please note the workbook will reset if closed or disconnected and the this section will have to be done before each session\n",
        "2.   RDM and MORDM Models\n",
        "Robust Decision Making (RDM) and its extension MultiObjective Robust Decision Making (MORDM) is an analytical framework (developed by Robert Lempert and RAND Corporation) to help identify potential robust strategies and evaluate their trade offs. The MORDM Framework (as its name sudgests) accounts for problems that have multiple objectives that compete with each other.\n",
        "This workbook covers the following three frameworks\n",
        "> *   Rhodium - Project Platypus\n",
        "> *   Borg Multiobjective Evolutionary Algorithm (Borg MOEA)\n",
        "> *   Direct Policy Search (DPS) - using the Lake Problem\n",
        "\n",
        "\n",
        "\n",
        "\n",
        "\n"
      ]
    },
    {
      "cell_type": "markdown",
      "metadata": {
        "id": "Z3rMp5AkC2lS"
      },
      "source": [
        "##Colab Environment Setup and Requierments"
      ]
    },
    {
      "cell_type": "markdown",
      "metadata": {
        "id": "l0p4TN4uPHpP"
      },
      "source": [
        "Identify current path"
      ]
    },
    {
      "cell_type": "code",
      "execution_count": null,
      "metadata": {
        "id": "LvALl7C674PQ",
        "colab": {
          "base_uri": "https://localhost:8080/"
        },
        "outputId": "160a6254-a888-4bea-8da1-cf2cadfa2944"
      },
      "outputs": [
        {
          "output_type": "stream",
          "name": "stdout",
          "text": [
            "/content\n"
          ]
        }
      ],
      "source": [
        "!pwd"
      ]
    },
    {
      "cell_type": "markdown",
      "metadata": {
        "id": "yVke8YyQ2hNV"
      },
      "source": [
        "Path and version of python (default with Google Collab notebook)"
      ]
    },
    {
      "cell_type": "code",
      "execution_count": null,
      "metadata": {
        "id": "mzOJATRM3QUx",
        "colab": {
          "base_uri": "https://localhost:8080/"
        },
        "outputId": "32700dca-4244-48b9-e7df-208242afea4e"
      },
      "outputs": [
        {
          "output_type": "stream",
          "name": "stdout",
          "text": [
            "/usr/local/bin/python\n",
            "Python 3.7.13\n",
            "/bin/bash: conda: command not found\n"
          ]
        }
      ],
      "source": [
        "#Path and version numbers for python\n",
        "!which python\n",
        "!python --version\n",
        "!conda --version"
      ]
    },
    {
      "cell_type": "markdown",
      "metadata": {
        "id": "tN6foV0s3Fz1"
      },
      "source": [
        "Clear evn path before installing Miniconda - Optional"
      ]
    },
    {
      "cell_type": "code",
      "execution_count": null,
      "metadata": {
        "id": "2LheqtxWGSlx",
        "colab": {
          "base_uri": "https://localhost:8080/"
        },
        "outputId": "f8813b5b-604c-4f26-d62c-81f756d2d208"
      },
      "outputs": [
        {
          "output_type": "stream",
          "name": "stdout",
          "text": [
            "env: PYTHONPATH=\n"
          ]
        }
      ],
      "source": [
        "%env PYTHONPATH="
      ]
    },
    {
      "cell_type": "markdown",
      "metadata": {
        "id": "VGtupN8L3SAx"
      },
      "source": [
        "Install latest version of miniconda (4.12.0) and associated version of python (3.9)"
      ]
    },
    {
      "cell_type": "code",
      "execution_count": null,
      "metadata": {
        "id": "nUlpeZsfGk9B"
      },
      "outputs": [],
      "source": [
        "%%bash\n",
        "MINICONDA_INSTALLER_SCRIPT=Miniconda3-py39_4.12.0-Linux-x86_64.sh\n",
        "MINICONDA_PREFIX=/usr/local\n",
        "wget https://repo.continuum.io/miniconda/$MINICONDA_INSTALLER_SCRIPT\n",
        "chmod +x $MINICONDA_INSTALLER_SCRIPT\n",
        "./$MINICONDA_INSTALLER_SCRIPT -b -f -p $MINICONDA_PREFIX"
      ]
    },
    {
      "cell_type": "markdown",
      "metadata": {
        "id": "NVPqCdEF3mBO"
      },
      "source": [
        "Check to ensure miniconda and python versions update and install correctly \n",
        ">shoud return : \n",
        "\n",
        "            /usr/local/bin/conda\n",
        "            conda 4.13.0\n",
        "            Python 3.9.12"
      ]
    },
    {
      "cell_type": "code",
      "execution_count": null,
      "metadata": {
        "id": "7GtXFyfUHCja",
        "colab": {
          "base_uri": "https://localhost:8080/"
        },
        "outputId": "493c29a4-b68f-48c9-a4d8-4d88c928de30"
      },
      "outputs": [
        {
          "output_type": "stream",
          "name": "stdout",
          "text": [
            "/usr/local/bin/conda\n",
            "conda 4.12.0\n",
            "Python 3.9.12\n"
          ]
        }
      ],
      "source": [
        "!which conda \n",
        "!conda --version\n",
        "!python --version"
      ]
    },
    {
      "cell_type": "markdown",
      "metadata": {
        "id": "i0ZRU5KG37Ww"
      },
      "source": [
        "Install missing requirements"
      ]
    },
    {
      "cell_type": "code",
      "execution_count": null,
      "metadata": {
        "id": "v8qrdIBNNY6i"
      },
      "outputs": [],
      "source": [
        "#!conda install pip\n",
        "!conda install ipykernel # or pip install ipykernel"
      ]
    },
    {
      "cell_type": "code",
      "execution_count": null,
      "metadata": {
        "id": "2C0-rjbiMmE0"
      },
      "outputs": [],
      "source": [
        "!conda install -c rmg graphviz=2.38.0"
      ]
    },
    {
      "cell_type": "code",
      "execution_count": null,
      "metadata": {
        "id": "TsF_RLq1Ox3C"
      },
      "outputs": [],
      "source": [
        "!conda update conda\n",
        "!conda install scikit-learn"
      ]
    },
    {
      "cell_type": "markdown",
      "source": [
        "install and update C++ environment needed for building and compiling files for Borg MOEA "
      ],
      "metadata": {
        "id": "DBZ7hdZb7fBu"
      }
    },
    {
      "cell_type": "code",
      "source": [
        "%cd\n",
        "!apt-get install -qq gcc-5 g++-5 -y\n",
        "!ln -s /usr/bin/gcc-5 \n",
        "!ln -s /usr/bin/g++-5 \n",
        "\n",
        "!sudo apt-get update\n",
        "!sudo apt-get upgrade"
      ],
      "metadata": {
        "id": "_Nm3l7Wv7d_K"
      },
      "execution_count": null,
      "outputs": []
    },
    {
      "cell_type": "markdown",
      "metadata": {
        "id": "KXrH_K8yBr2Y"
      },
      "source": [
        "Mount Google Drive for local file uploads - Linked to my personal Drive"
      ]
    },
    {
      "cell_type": "code",
      "execution_count": null,
      "metadata": {
        "id": "luarhEzFljo0"
      },
      "outputs": [],
      "source": [
        "from google.colab import drive\n",
        "drive.mount('/content/drive')"
      ]
    },
    {
      "cell_type": "markdown",
      "metadata": {
        "id": "guHdrILE5XU5"
      },
      "source": [
        "Create a Working Directory"
      ]
    },
    {
      "cell_type": "code",
      "execution_count": null,
      "metadata": {
        "id": "HAOUJZtIsC0M"
      },
      "outputs": [],
      "source": [
        "%mkdir /ProjectPlatypus/"
      ]
    },
    {
      "cell_type": "markdown",
      "metadata": {
        "id": "aOiTaN1CDXkx"
      },
      "source": [
        "#Multi-Objective Robust Decision Making \n",
        "\n"
      ]
    },
    {
      "cell_type": "markdown",
      "metadata": {
        "id": "kCGbUNtYyok4"
      },
      "source": [
        "##  Rhodium - Project Platapus \n",
        "Project-Platypus/Platypus is licensed under the\n",
        "\n",
        "GNU General Public License v3.0"
      ]
    },
    {
      "cell_type": "markdown",
      "source": [
        "*excerpt from Project Platypu GIT Repository* - credit Hadka, D., Herman, J., Reed, P.M., Keller, K."
      ],
      "metadata": {
        "id": "y1vLk7HO0jvm"
      }
    },
    {
      "cell_type": "markdown",
      "metadata": {
        "id": "ZrhbsXVlxH1F"
      },
      "source": [
        "**What is Rhodium?**\n",
        "\n",
        "Rhodium is an open source Python library providing methods for RDM and MORDM. It follows a declarative design, where you tell Rhodium the actions or analyses you wish to perform and it determines the necessary calculations. Rhodium can interface with models written in a variety of languages, including Python, C and Fortran, R, and Excel. One begins by creating a Rhodium model:"
      ]
    },
    {
      "cell_type": "code",
      "source": [
        "from rhodium import *\n",
        "\n",
        "def lake_problem(pollution_limit,\n",
        "         b = 0.42,        # decay rate for P in lake (0.42 = irreversible)\n",
        "         q = 2.0,         # recycling exponent\n",
        "         mean = 0.02,     # mean of natural inflows\n",
        "         stdev = 0.001,   # standard deviation of natural inflows\n",
        "         alpha = 0.4,     # utility from pollution\n",
        "         delta = 0.98,    # future utility discount rate\n",
        "         nsamples = 100): # monte carlo sampling of natural inflows\n",
        "    # add body of function\n",
        "    return (max_P, utility, intertia, reliability)\n",
        "\n",
        "\n",
        "model = Model(lake_problem)\n",
        "\n",
        "model.parameters = [Parameter(\"pollution_limit\"),\n",
        "                    Parameter(\"b\"),\n",
        "                    Parameter(\"q\"),\n",
        "                    Parameter(\"mean\"),\n",
        "                    Parameter(\"stdev\"),\n",
        "                    Parameter(\"delta\")]\n",
        "\n",
        "model.responses = [Response(\"max_P\", Response.MINIMIZE),\n",
        "                   Response(\"utility\", Response.MAXIMIZE),\n",
        "                   Response(\"inertia\", Response.MAXIMIZE),\n",
        "                   Response(\"reliability\", Response.MAXIMIZE)]\n",
        "\n",
        "model.constraints = [Constraint(\"reliability >= 0.95\")]\n",
        "\n",
        "model.levers = [RealLever(\"pollution_limit\", 0.0, 0.1, length=100)]\n",
        "\n",
        "model.uncertainties = [UniformUncertainty(\"b\", 0.1, 0.45),\n",
        "                       UniformUncertainty(\"q\", 2.0, 4.5),\n",
        "                       UniformUncertainty(\"mean\", 0.01, 0.05),\n",
        "                       UniformUncertainty(\"stdev\", 0.001, 0.005),\n",
        "                       UniformUncertainty(\"delta\", 0.93, 0.99)]"
      ],
      "metadata": {
        "id": "OXvEfNsu0Ra1"
      },
      "execution_count": null,
      "outputs": []
    },
    {
      "cell_type": "markdown",
      "source": [
        "A Rhodium model consists of 6 parts:\n",
        "\n",
        "1. The underlying model (in this case, the Python function **lake_problem**).\n",
        "\n",
        "2. **model.parameters** - the parameters of interest.\n",
        "\n",
        "3. **model.responses** - the model responses or outputs.\n",
        "\n",
        "4. **model.constraints** - any hard constraints that must be satisfied.\n",
        "\n",
        "5. **model.levers** - parameters that we have direct control over.\n",
        "\n",
        "6. **model.uncertainties** - parameters that represent exogeneous uncertainties.\n",
        "\n",
        "Once the Rhodium model is defined, you can then perform any analysis. For example, if we want to optimize the model and display the Pareto front:"
      ],
      "metadata": {
        "id": "go8s3JS801R3"
      }
    },
    {
      "cell_type": "code",
      "source": [
        "output = optimize(model, \"NSGAII\", 10000)\n",
        "scatter3d(model, output)\n",
        "plt.show()"
      ],
      "metadata": {
        "id": "ff6Y8N8_1OkI"
      },
      "execution_count": null,
      "outputs": []
    },
    {
      "cell_type": "markdown",
      "source": [
        "*end of excerpt*"
      ],
      "metadata": {
        "id": "us9M_kxd1Su4"
      }
    },
    {
      "cell_type": "markdown",
      "source": [
        "###Steps for Installing and Running Rhodium "
      ],
      "metadata": {
        "id": "k3vshICz0oJj"
      }
    },
    {
      "cell_type": "markdown",
      "metadata": {
        "id": "MzG6yzkSr2Ll"
      },
      "source": [
        "Clone the GIT repositories into your working directory"
      ]
    },
    {
      "cell_type": "code",
      "execution_count": null,
      "metadata": {
        "id": "Sn5cF9Gsumu5"
      },
      "outputs": [],
      "source": [
        "%cd /content/ProjectPlatypus\n",
        "!git clone https://github.com/Project-Platypus/PRIM.git\n",
        "!git clone https://github.com/Project-Platypus/Platypus.git\n",
        "!git clone https://github.com/Project-Platypus/Rhodium.git"
      ]
    },
    {
      "cell_type": "markdown",
      "metadata": {
        "id": "wkmu-LjsrlZ1"
      },
      "source": [
        "Navigate and Build the GIT Repositories (as well as install all Python dependencies)\n",
        "1. PRIM"
      ]
    },
    {
      "cell_type": "code",
      "execution_count": null,
      "metadata": {
        "id": "UlM7ulEuztxr"
      },
      "outputs": [],
      "source": [
        "%cd /content/ProjectPlatypus/PRIM/\n",
        "!python setup.py develop"
      ]
    },
    {
      "cell_type": "markdown",
      "metadata": {
        "id": "dEljM6rLFFXI"
      },
      "source": [
        "2. Platypus"
      ]
    },
    {
      "cell_type": "code",
      "execution_count": null,
      "metadata": {
        "id": "0O2ObEh1Aow6"
      },
      "outputs": [],
      "source": [
        "%cd /content/ProjectPlatypus/Platypus\n",
        "!python setup.py develop"
      ]
    },
    {
      "cell_type": "markdown",
      "metadata": {
        "id": "QsE_GAXKFIR9"
      },
      "source": [
        "3. Rhodium"
      ]
    },
    {
      "cell_type": "code",
      "execution_count": null,
      "metadata": {
        "id": "dFTes1N_BCgh"
      },
      "outputs": [],
      "source": [
        "%cd /content/ProjectPlatypus/Rhodium\n",
        "!python setup.py develop"
      ]
    },
    {
      "cell_type": "markdown",
      "metadata": {
        "id": "a1Xi_-RlFLl4"
      },
      "source": [
        "Run simple Rhodium Python example\n",
        ">Navigate to /examples/Basic/\n",
        "run example - **example.py** - An example solving the Lake Problem using Rhodium."
      ]
    },
    {
      "cell_type": "code",
      "execution_count": null,
      "metadata": {
        "id": "lomJAxg9KuXL"
      },
      "outputs": [],
      "source": [
        "%cd /content/ProjectPlatypus/Rhodium/examples/Basic\n",
        "\n",
        "!python example.py"
      ]
    },
    {
      "cell_type": "markdown",
      "metadata": {
        "id": "i7f3OqOIGI-l"
      },
      "source": [
        "Run simple Rhodium Python example im paralel\n",
        "**example_parallelization.py** - Shows how to parallelize the model evaluations across multiple cores.\n",
        "This is powered by Platypus' evaluators.  See the module Platypus for more information on the available parallel evaluators (e.g., MPI).\n",
        "\n",
        "*note - currently does nt work*"
      ]
    },
    {
      "cell_type": "code",
      "execution_count": null,
      "metadata": {
        "id": "7-FdFaFGaESF"
      },
      "outputs": [],
      "source": [
        "!python example_parallelization.py"
      ]
    },
    {
      "cell_type": "markdown",
      "source": [
        "Summary notes:"
      ],
      "metadata": {
        "id": "Hp7e4h4SmJKw"
      }
    },
    {
      "cell_type": "markdown",
      "metadata": {
        "id": "AraEAwaoVl3Q"
      },
      "source": [
        "### Rhodium - Lakeproblem Demo IPython Notebook\n",
        "Please check out the notebook linked below  - This notebook (Hadka, D.) demonstrates the current functionality of Rhodium, a Python library for exploratory modelling and robust decision making.\n",
        "https://gist.github.com/dhadka/a8d7095c98130d8f73bc#file-rhodium-ipynb\n",
        "\n",
        "David Hadka"
      ]
    },
    {
      "cell_type": "markdown",
      "metadata": {
        "id": "4mTLz5iryzMp"
      },
      "source": [
        "## Borg Multiobjective Evolutionary Algorithm (Borg MOEA)\n",
        "Hadka, D., and Reed, P."
      ]
    },
    {
      "cell_type": "markdown",
      "source": [
        "The Borg Multiobjective Evolutionary Algorithm (MOEA) is a state-of-the-art optimization algorithm developed by David Hadka and Patrick Reed at the Pennsylvania State University. Borg is freely available for academic and non-commercial use. \n",
        "\n",
        "**Please link bleow to learn more about the Borg MOEA and request access to its source code.**\n",
        "\n",
        ">http://borgmoea.org/"
      ],
      "metadata": {
        "id": "-MwCs7Xl2Yzm"
      }
    },
    {
      "cell_type": "markdown",
      "metadata": {
        "id": "1A46MTH5McET"
      },
      "source": [
        "---\n",
        "**NOTE** Kill Runtime and Start from a here in a CLEAN workbook (*issue with Project Platypus setup affecting Borg MOEA*)\n",
        "\n",
        "\n",
        "---\n",
        "\n",
        "\n",
        "\n",
        "\n",
        "\n"
      ]
    },
    {
      "cell_type": "markdown",
      "source": [
        "###Steps for Accessing Compiling and Running Borg MOEA Framework\n",
        "Serial and Parallel"
      ],
      "metadata": {
        "id": "E13-50ij3j1r"
      }
    },
    {
      "cell_type": "markdown",
      "source": [
        "Go to http://borgmoea.org/ to request access to Borg MOEA source code and download reportioty\n",
        "\n",
        "Save rep in Google Drive for easy access."
      ],
      "metadata": {
        "id": "UB-SaGV62wFd"
      }
    },
    {
      "cell_type": "markdown",
      "metadata": {
        "id": "mHf1wtP0M-Tc"
      },
      "source": [
        "*   Make and move to working directory\n",
        "*   Copy MOEA_Borg zip file from drive to working Directory and uzip\n",
        "*   Delete zip and _MACOSX file.\n",
        "\n",
        "\n",
        "\n",
        "\n",
        " \n",
        "\n"
      ]
    },
    {
      "cell_type": "code",
      "execution_count": null,
      "metadata": {
        "id": "Ex3b6aBarvWF"
      },
      "outputs": [],
      "source": [
        "#%mkdir /content/ProjectPlatypus/ #if starting clean run this\n",
        "%cd /content/ProjectPlatypus/\n",
        "%cp /content/drive/MyDrive/dmh309-serial-borg-moea-948837379c8a.zip /content/ProjectPlatypus/\n",
        "!unzip dmh309-serial-borg-moea-948837379c8a.zip\n",
        "%rm -rf dmh309-serial-borg-moea-948837379c8a.zip\n",
        "%mv /content/ProjectPlatypus/dmh309-serial-borg-moea-948837379c8a/ /content/ProjectPlatypus/MOEA_BORG/\n",
        "%rm -rf __MACOSX/"
      ]
    },
    {
      "cell_type": "markdown",
      "metadata": {
        "id": "Zi2nqXZfsW81"
      },
      "source": [
        "compile and build the three executables distributed with the \n",
        "Borg MOEA:\n",
        "1. borg.exe \n",
        "2. dtlz2_serial.exe \n",
        "3. and dtlz2_advanced.exe\n",
        "\n"
      ]
    },
    {
      "cell_type": "code",
      "execution_count": null,
      "metadata": {
        "id": "yPDK1XnHsV0s"
      },
      "outputs": [],
      "source": [
        "%cd /content/ProjectPlatypus/MOEA_BORG/C\n",
        "!sed -i 's/GPU=0/GPU=1/g' makefile\n",
        "!cat makefile\n",
        "!make"
      ]
    },
    {
      "cell_type": "markdown",
      "metadata": {
        "id": "CkADS-xJQh56"
      },
      "source": [
        "Test .exes"
      ]
    },
    {
      "cell_type": "code",
      "execution_count": null,
      "metadata": {
        "id": "RDCbCei8sV-7"
      },
      "outputs": [],
      "source": [
        "!./dtlz2_serial.exe"
      ]
    },
    {
      "cell_type": "code",
      "execution_count": null,
      "metadata": {
        "id": "Gob49Y41Qm9j"
      },
      "outputs": [],
      "source": [
        "%cd /content/ProjectPlatypus/MOEA_BORG/C\n",
        "!./dtlz2_advanced.exe"
      ]
    },
    {
      "cell_type": "markdown",
      "metadata": {
        "id": "lfrdlgbZStMm"
      },
      "source": [
        "Command Line Interface - using borg.exe\n",
        "borg.exe is a command line tool that runs the serial Borg MOEA, except that the optimization problem is defined elsewhere. \n",
        "\n",
        "The four arguments specify the NFE (-n 10000), the number of decision variables (-v 11), the number of objectives (-o 2), and the epsilon values (-e 0.01,0.01). The epsilon values are a special construct unique to the Borg MOEA and several other optimization algorithms. The epsilon values control the minimum resolution or spacing of solutions --- smaller epsilon values produce fine-graned Pareto sets, and larger epsilon values produce coarser sets.\n",
        "\n",
        ">To see all of the options made available by borg.exe, use the -h option:\n",
        "\n",
        "\n",
        "\n",
        "\n"
      ]
    },
    {
      "cell_type": "code",
      "execution_count": null,
      "metadata": {
        "colab": {
          "background_save": true
        },
        "id": "Zt8AzE4nkfcB"
      },
      "outputs": [],
      "source": [
        "!./borg.exe -h"
      ]
    },
    {
      "cell_type": "code",
      "execution_count": null,
      "metadata": {
        "id": "BVuecZUcsWEI"
      },
      "outputs": [],
      "source": [
        "!./borg.exe -n 10000 -v 11 -o 2 -e 0.1,0.1 python dtlz2.py\n",
        "#this currently does not run - reached out to David Hadka for advice."
      ]
    },
    {
      "cell_type": "markdown",
      "metadata": {
        "id": "CaX0ec3NOAxq"
      },
      "source": [
        "####**Serial Borg MOEA** - designed to run on a single processor\n"
      ]
    },
    {
      "cell_type": "markdown",
      "metadata": {
        "id": "beZnM-FvmkqJ"
      },
      "source": [
        "Python example - basic  **dtlz2.py** is the most basic example. A Platypus DTLZ2 instance is created and solved with PyBorg. The results are plotted"
      ]
    },
    {
      "cell_type": "code",
      "execution_count": null,
      "metadata": {
        "id": "mixJPKCRLeSt"
      },
      "outputs": [],
      "source": [
        "%cd /content/ProjectPlatypus/MOEA_BORG/Python\n",
        "!pip install Platypus-Opt\n",
        "!pip install matplotlib\n",
        "!python setup.py install\n",
        "%run dtlz2.py"
      ]
    },
    {
      "cell_type": "markdown",
      "metadata": {
        "id": "6B3vl2JCLgo9"
      },
      "source": [
        "Python Example - **dtlz2_advanced.py** demonstrates the use of custom runners and parameteriations\n"
      ]
    },
    {
      "cell_type": "code",
      "execution_count": null,
      "metadata": {
        "id": "-FpWp037Ptsh"
      },
      "outputs": [],
      "source": [
        "%cd /content/ProjectPlatypus/MOEA_BORG/Python\n",
        "!pip install Platypus-Opt\n",
        "!pip install matplotlib\n",
        "!python setup.py install\n",
        "%run dtlz2_advanced.py\n"
      ]
    },
    {
      "cell_type": "markdown",
      "metadata": {
        "id": "moypdTSWLvRD"
      },
      "source": [
        "Python Example - **dtlz2_runtime.py** plots the hypervolum performance metric throughout a run."
      ]
    },
    {
      "cell_type": "code",
      "execution_count": null,
      "metadata": {
        "id": "J68Mb4fvPLDh"
      },
      "outputs": [],
      "source": [
        "%cd /content/ProjectPlatypus/MOEA_BORG/Python\n",
        "%mkdir pyborg\n",
        "!pip install Platypus-Opt\n",
        "!pip install matplotlib\n",
        "!python setup.py install\n",
        "\n",
        "%run dtlz2_runtime.py\n"
      ]
    },
    {
      "cell_type": "markdown",
      "metadata": {
        "id": "o5EhdsG0y_Xp"
      },
      "source": [
        "*For a more advanced example of using the Borg MOEA, see dtlz2_advanced.c. This file demonstrates how to customize the parameters of the Borg MOEA, how to create checkpoint files for resuming interrupted runs, and how to save the optimization results to a file.*"
      ]
    },
    {
      "cell_type": "markdown",
      "metadata": {
        "id": "2n3IG85qTuXH"
      },
      "source": [
        "####Parallel Borg MOEA - designed for HPC environment (multi processor)\n",
        "---\n",
        "*Note - this colab currently does not run PBS so once complied you cannot exicute the mpirun or scheduler here yet*\n",
        "\n",
        "See **Discovery Cluster at Darthmouth** for scheduling jobs as this Google Colab is a work in progress and will not run the shell script.\n",
        "\n",
        "\n",
        "\n",
        "---\n",
        "  \n"
      ]
    },
    {
      "cell_type": "markdown",
      "metadata": {
        "id": "VjJJ48zqgLxQ"
      },
      "source": [
        "Make master-servant (**_ms**) exicutable - **dtlz2_ms.exe** for parallel exicution\n",
        "\n",
        "\n"
      ]
    },
    {
      "cell_type": "code",
      "execution_count": null,
      "metadata": {
        "id": "R0Ss6b-xfhz-"
      },
      "outputs": [],
      "source": [
        "%cd /content/ProjectPlatypus/MOEA_BORG/C\n",
        "!sed -i 's/GPU=0/GPU=1/g' makefile\n",
        "!cat makefile\n",
        "!make compile-parallel"
      ]
    },
    {
      "cell_type": "markdown",
      "metadata": {
        "id": "VkIxnBrCW8tP"
      },
      "source": [
        "Borg Python Wrapper"
      ]
    },
    {
      "cell_type": "code",
      "execution_count": null,
      "metadata": {
        "colab": {
          "base_uri": "https://localhost:8080/"
        },
        "id": "bGPRt-9AW_iH",
        "outputId": "98e25a16-c6df-469e-d15e-9e4100d11b4f"
      },
      "outputs": [
        {
          "name": "stdout",
          "output_type": "stream",
          "text": [
            "/content/ProjectPlatypus/MOEA_BORG/C\n"
          ]
        }
      ],
      "source": [
        "%cd /content/ProjectPlatypus/MOEA_BORG/C\n",
        "!gcc -shared -fPIC -O3 -o libborg.so borg.c mt19937ar.c -lm"
      ]
    },
    {
      "cell_type": "code",
      "execution_count": null,
      "metadata": {
        "id": "fYooLVRUYN2E"
      },
      "outputs": [],
      "source": [
        "%cp /content/ProjectPlatypus/MOEA_BORG/C/libborg.so /content/ProjectPlatypus/MOEA_BORG/C/plugins/Python"
      ]
    },
    {
      "cell_type": "code",
      "execution_count": null,
      "metadata": {
        "id": "U22NIsZOch9H"
      },
      "outputs": [],
      "source": [
        "%cd /content/ProjectPlatypus/MOEA_BORG/C/plugins/Python\n",
        "#%rm -rf borg.dll\n",
        "!python test.py\n"
      ]
    },
    {
      "cell_type": "code",
      "execution_count": null,
      "metadata": {
        "id": "0iYvAQXCdEae"
      },
      "outputs": [],
      "source": [
        "!python borg.py"
      ]
    },
    {
      "cell_type": "markdown",
      "metadata": {
        "id": "dRW1EBeTy4_B"
      },
      "source": [
        "## DPS Lake Problem - using MOEA and Borg\n",
        "Credit - Julianne Quinn\n",
        "\n",
        "*Lake Problem DPS vs. Intertemporal Optimization\n",
        "Intended for use with the MOEAFramework, Borg and pareto.py. Licensed under the GNU Lesser General Public License.*"
      ]
    },
    {
      "cell_type": "markdown",
      "source": [
        "---\n",
        "\n",
        "*excerpt from Quinn, J., et al., 2017*\n",
        "\n",
        "\"This study advances the MORDM framework (Kasprzyk et al., 2013) with a specific focus on two technical contributions: (1) demonstrating the value and use of direct policy search (DPS) (Rosenstein & Barto, 2001) for identifying adaptive robust operational control strategies for socio-ecological systems and (2) demonstrating how nonlinear environmental thresholds, or tipping points, pose fundamental challenges for balancing economic benefits and their consequent risks to socio-ecological systems. \n",
        "\n",
        "...employ a closed loop control strategy called direct policy search (DPS), that has proven to be a simple and computationally efficient but effective method for solving challenging reservoir control problems (Giuliani et al., 2016). In DPS, the parameters of a function mapping the system state(s) to decisions are optimized rather than the decisions themselves. \n",
        "\n",
        "...explore the use of direct policy search (DPS) to design robust pollution control rules for the town that account for deeply uncertain system characteristics and conflicting objectives. The closed loop control formulation of DPS improves the quality and robustness of key management tradeoffs, while dramatically reducing the computational complexity of solving the multi-objective pollution control problem relative to open loop control strategies. These insights suggest DPS is a promising tool for managing socio-ecological systems with deeply uncertain tipping points.\"\n",
        "\n",
        "**What is DPS?**\n",
        "\n",
        "\"Also known as parameterization-simulation-optimization (Koutsoyiannis & Economou, 2003), DPS has been used for several single objective applications in the water and environmental literature (Guariso et al., 1986, Koutsoyiannis and Economou, 2003). More recently, DPS applications have expanded their focus toward better addressing uncertainties and multiple objectives, mainly in reservoir operations (Cui and Kuczera, 2005, Giuliani et al., 2016, Salazar et al., 2016). The present study builds on this prior work by introducing DPS into the socio-ecological tipping points literature (Singh et al., 2015, Carpenter et al., 2015, Ward et al., 2015) and demonstrating the value of its state-based feedback control for navigating deeply uncertain threshold management tradeoffs (Singh et al., 2015, Hadka et al., 2015).\"\n",
        "\n",
        "*End fo excerpt*\n",
        "\n",
        "---\n"
      ],
      "metadata": {
        "id": "TlgzYi448kHq"
      }
    },
    {
      "cell_type": "markdown",
      "metadata": {
        "id": "Aob2c8b_4f70"
      },
      "source": [
        "\n",
        "\n",
        "---\n",
        "*Note:-  this colab currently does not run PBS so once complied you cannot exicute the mpirun or scheduler here yet*\n",
        "\n",
        "See **Discovery Cluster at Darthmouth** for scheduling jobs as this Google Colab is a work in progress and will not run the shell script.\n",
        "\n",
        "\n",
        "\n",
        "---\n",
        "\n",
        "\n",
        "\n",
        ">Prerequisits to be downloaded to Google drive - currently availible for Dartmouth affliates on /jumbo/keller-lab/modles\n",
        "1. MOEAFramework-*-Demo.jar file (https://github.com/MOEAFramework/MOEAFramework/releases/download/v2.13/MOEAFramework-2.13-Demo.jar)\n",
        "2. MOEA_Borg source code (http://borgmoea.org/)\n",
        "\n"
      ]
    },
    {
      "cell_type": "markdown",
      "metadata": {
        "id": "-wX0dSZ05OUl"
      },
      "source": [
        "Clone Lake_Problem_DPS GIT Repository to working directory"
      ]
    },
    {
      "cell_type": "code",
      "execution_count": null,
      "metadata": {
        "id": "_XU0iZUqrGr7"
      },
      "outputs": [],
      "source": [
        "%cd /content/ProjectPlatypus/\n",
        "!git clone https://github.com/julianneq/Lake_Problem_DPS.git"
      ]
    },
    {
      "cell_type": "markdown",
      "metadata": {
        "id": "6herNEfw6Zyh"
      },
      "source": [
        "Part 1 - Optimization Setup\n",
        ">"
      ]
    },
    {
      "cell_type": "markdown",
      "metadata": {
        "id": "ICotwxhk80Pu"
      },
      "source": [
        "Copy the MOEAFramework-*-Demo.jar file to new working Directory directory (Lake_Problem_DPS/Optimization)."
      ]
    },
    {
      "cell_type": "code",
      "execution_count": null,
      "metadata": {
        "colab": {
          "base_uri": "https://localhost:8080/"
        },
        "id": "Ez9QUpqBflYB",
        "outputId": "cdf9a641-d073-4fda-d69a-eaa8b3d7b8af"
      },
      "outputs": [
        {
          "name": "stdout",
          "output_type": "stream",
          "text": [
            "/content/ProjectPlatypus/Lake_Problem_DPS/Optimization\n"
          ]
        }
      ],
      "source": [
        "%cd /content/ProjectPlatypus/Lake_Problem_DPS/Optimization\n",
        "%cp /content/drive/MyDrive/MOEAFramework-2.13-Demo.jar /content/ProjectPlatypus/Lake_Problem_DPS/Optimization"
      ]
    },
    {
      "cell_type": "markdown",
      "metadata": {
        "id": "TB6gxQ0I821A"
      },
      "source": [
        "Download Pareto.py GIT Repository into working directory (Lake_Problem_DPS/Optimization/)."
      ]
    },
    {
      "cell_type": "code",
      "execution_count": null,
      "metadata": {
        "id": "h-r-Qegdipbz"
      },
      "outputs": [],
      "source": [
        "!git clone https://github.com/matthewjwoodruff/pareto.py.git"
      ]
    },
    {
      "cell_type": "markdown",
      "metadata": {
        "id": "tavBs7EP9fyQ"
      },
      "source": [
        "Copy MOEA_Borg source code (/C/) to Optimization directory and rename folder\"/borg/\"\n",
        "\n",
        "Copy moeaframework.c and moeaframework.h to the /borg/ directory"
      ]
    },
    {
      "cell_type": "code",
      "execution_count": null,
      "metadata": {
        "id": "QIAAGzrfp87_"
      },
      "outputs": [],
      "source": [
        "!cp -r \"//content/ProjectPlatypus/MOEA_BORG/dmh309-serial-borg-moea-948837379c8a/C/\" \"/content/ProjectPlatypus/Lake_Problem_DPS/Optimization/\"\n",
        "!mv \"/content/ProjectPlatypus/Lake_Problem_DPS/Optimization/C/\" \"/content/ProjectPlatypus/Lake_Problem_DPS/Optimization/borg\"\n",
        "!cp \"/content/ProjectPlatypus/Lake_Problem_DPS/Optimization/moeaframework.c\" \"/content/ProjectPlatypus/Lake_Problem_DPS/Optimization/borg/\"\n",
        "!cp \"/content/ProjectPlatypus/Lake_Problem_DPS/Optimization/moeaframework.h\" \"/content/ProjectPlatypus/Lake_Problem_DPS/Optimization/borg/\""
      ]
    },
    {
      "cell_type": "markdown",
      "metadata": {
        "id": "TDLS-vCe_CCd"
      },
      "source": [
        "Compile DPS Optimization shell exicutable\n"
      ]
    },
    {
      "cell_type": "code",
      "execution_count": null,
      "metadata": {
        "id": "IZEaBs4mu9_Q"
      },
      "outputs": [],
      "source": [
        "%cd /content/ProjectPlatypus/Lake_Problem_DPS/Optimization/DPS\n",
        "!sed -i 's/GPU=0/GPU=1/g' makefile\n",
        "!cat makefile\n",
        "!make"
      ]
    },
    {
      "cell_type": "markdown",
      "metadata": {
        "id": "_TVDzI5S_gm7"
      },
      "source": [
        "Make output Directories"
      ]
    },
    {
      "cell_type": "code",
      "execution_count": null,
      "metadata": {
        "id": "MnCuV7BoyOrB"
      },
      "outputs": [],
      "source": [
        "!mkdir runtime\n",
        "!mkdir sets"
      ]
    },
    {
      "cell_type": "markdown",
      "metadata": {
        "id": "akEq4cpk_1Mo"
      },
      "source": [
        "Run DPS Optimization - This is set up to run in parallel using MPI\n",
        "\n",
        "---\n",
        "\n",
        "\n",
        "\n"
      ]
    },
    {
      "cell_type": "code",
      "execution_count": null,
      "metadata": {
        "id": "M2UGy98eA8Pg"
      },
      "outputs": [],
      "source": [
        "\n",
        "!qsub run_DPS_opt.sh\n"
      ]
    },
    {
      "cell_type": "markdown",
      "metadata": {
        "id": "Zp7Us8Bh_uVJ"
      },
      "source": [
        "*Note - You may need to change the include statement on line 4 of the makefile to match the location of the Boost C++ library on your machine. You can also change the number of nodes and processors on line 3 of run_DPS_opt.sh. Make sure to also scale the walltime on line 2 up or down, accordingly. Note it may take awhile to run.*"
      ]
    },
    {
      "cell_type": "markdown",
      "metadata": {
        "id": "poBTMDggrknm"
      },
      "source": [
        "\n",
        "\n",
        "Compile Intertemporal Optimization shell exicutable\n",
        "\n"
      ]
    },
    {
      "cell_type": "code",
      "execution_count": null,
      "metadata": {
        "id": "FkoTHoXAg2Fu"
      },
      "outputs": [],
      "source": [
        "%cd /content/ProjectPlatypus/Lake_Problem_DPS/Optimization/Intertemporal\n",
        "!sed -i 's/GPU=0/GPU=1/g' makefile\n",
        "!cat makefile\n",
        "!make"
      ]
    },
    {
      "cell_type": "markdown",
      "metadata": {
        "id": "QBEKSTCPy_6w"
      },
      "source": [
        "Make output Dirctories"
      ]
    },
    {
      "cell_type": "code",
      "execution_count": null,
      "metadata": {
        "id": "HCh7DwuXhSqU"
      },
      "outputs": [],
      "source": [
        "!mkdir runtime\n",
        "!mkdir sets"
      ]
    },
    {
      "cell_type": "markdown",
      "metadata": {
        "id": "vuzC08x-hbuq"
      },
      "source": [
        "Run Intertemporal Optimization - This is set up to run in parallel using MPI"
      ]
    },
    {
      "cell_type": "code",
      "execution_count": null,
      "metadata": {
        "id": "ELktXr_Khcpa"
      },
      "outputs": [],
      "source": [
        "!qsub run_IT_opt.sh"
      ]
    },
    {
      "cell_type": "code",
      "execution_count": null,
      "metadata": {
        "id": "DCXIE-_qhujb"
      },
      "outputs": [],
      "source": [
        "%cd /content/ProjectPlatypus/Lake_Problem_DPS/Optimization\n",
        "#make output Directories\n",
        "!mkdir DPS/metrics\n",
        "!mkdir DPS/objs\n",
        "!mkdir Intertemporal/metrics\n",
        "!mkdir Intertemporal/objs\n",
        "!mkdir output\n",
        "!mkdir error\n",
        "#find the reference sets across the 50 seeds of each solution strategy, and calculate runtime metrics \n",
        "#--still not sure what this part is about...\n",
        "%%sh get_objs.sh\n",
        "%%sh find_refSets.sh\n",
        "%%sh find_runtime_metrics.sh\n",
        "find_runtime_metrics.sh"
      ]
    }
  ],
  "metadata": {
    "colab": {
      "provenance": [],
      "toc_visible": true,
      "mount_file_id": "1mDGCHNj9J2NqOt_4YXj9gD81mWw8wStk",
      "authorship_tag": "ABX9TyOJpguvdCBpFHBlZptllr+d",
      "include_colab_link": true
    },
    "gpuClass": "standard",
    "kernelspec": {
      "display_name": "Python 3",
      "name": "python3"
    },
    "language_info": {
      "name": "python"
    }
  },
  "nbformat": 4,
  "nbformat_minor": 0
}